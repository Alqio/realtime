{
 "cells": [
  {
   "cell_type": "code",
   "execution_count": 1,
   "metadata": {
    "collapsed": true,
    "pycharm": {
     "name": "#%%\n"
    }
   },
   "outputs": [],
   "source": [
    "import numpy as np\n",
    "import pandas as pd\n",
    "import matplotlib.pyplot as plt"
   ]
  },
  {
   "cell_type": "code",
   "execution_count": null,
   "outputs": [],
   "source": [
    "d = np.genfromtxt('/home/alqio/workspace/mtms/hotswappable_processors/cppmatlab/restingstateeyesopen.csv', delimiter=',')\n",
    "print(f\"loaded {d.shape}\")\n",
    "transposed = d.T\n",
    "np.savetxt('output.csv', transposed, delimiter=',', fmt='%.1f')\n",
    "print(f\"saved {transposed.shape}\")"
   ],
   "metadata": {
    "collapsed": false,
    "pycharm": {
     "name": "#%%\n",
     "is_executing": true
    }
   }
  },
  {
   "cell_type": "code",
   "execution_count": 12,
   "outputs": [],
   "source": [
    "df = pd.read_csv('output.csv', header=None)"
   ],
   "metadata": {
    "collapsed": false,
    "pycharm": {
     "name": "#%%\n"
    }
   }
  },
  {
   "cell_type": "code",
   "execution_count": 13,
   "outputs": [
    {
     "data": {
      "text/plain": "             0        1        2        3        4        5        6   \\\n0       24595.0  27211.0  27653.0  21806.0  26186.0  30592.0  19998.0   \n1       24597.0  27210.0  27654.0  21807.0  26187.0  30592.0  19998.0   \n2       24598.0  27210.0  27656.0  21808.0  26187.0  30591.0  19998.0   \n3       24598.0  27212.0  27656.0  21809.0  26187.0  30590.0  19998.0   \n4       24599.0  27215.0  27657.0  21812.0  26189.0  30593.0  20001.0   \n...         ...      ...      ...      ...      ...      ...      ...   \n969996  24919.0  27493.0  27899.0  21922.0  26402.0  30725.0  20086.0   \n969997  24921.0  27496.0  27900.0  21926.0  26402.0  30726.0  20087.0   \n969998  24921.0  27496.0  27902.0  21928.0  26404.0  30728.0  20087.0   \n969999  24923.0  27497.0  27905.0  21930.0  26406.0  30731.0  20090.0   \n970000  24927.0  27500.0  27906.0  21933.0  26408.0  30731.0  20093.0   \n\n             7        8        9   ...       53       54       55       56  \\\n0       27082.0  25041.0  25003.0  ...  22109.0  23930.0  28526.0  24380.0   \n1       27083.0  25042.0  25004.0  ...  22109.0  23930.0  28527.0  24377.0   \n2       27084.0  25043.0  25004.0  ...  22111.0  23930.0  28528.0  24377.0   \n3       27084.0  25044.0  25005.0  ...  22114.0  23933.0  28531.0  24379.0   \n4       27086.0  25046.0  25007.0  ...  22115.0  23934.0  28534.0  24379.0   \n...         ...      ...      ...  ...      ...      ...      ...      ...   \n969996  27292.0  25090.0  25072.0  ...  22298.0  24036.0  28625.0  24451.0   \n969997  27294.0  25092.0  25074.0  ...  22299.0  24032.0  28624.0  24450.0   \n969998  27296.0  25093.0  25076.0  ...  22300.0  24033.0  28623.0  24450.0   \n969999  27299.0  25096.0  25077.0  ...  22304.0  24039.0  28628.0  24453.0   \n970000  27301.0  25100.0  25078.0  ...  22305.0  24041.0  28630.0  24456.0   \n\n             57       58       59       60       61      62  \n0       29384.0  24049.0  18484.0  30599.0  25362.0  2064.0  \n1       29383.0  24048.0  18484.0  30600.0  25363.0  2063.1  \n2       29384.0  24050.0  18488.0  30602.0  25365.0  2063.3  \n3       29387.0  24054.0  18490.0  30604.0  25367.0  2064.0  \n4       29390.0  24057.0  18492.0  30605.0  25368.0  2064.2  \n...         ...      ...      ...      ...      ...     ...  \n969996  29472.0  24333.0  18596.0  30780.0  25385.0  1991.3  \n969997  29472.0  24334.0  18595.0  30778.0  25384.0  1992.1  \n969998  29475.0  24335.0  18596.0  30778.0  25386.0  1992.2  \n969999  29476.0  24336.0  18600.0  30782.0  25389.0  1994.1  \n970000  29476.0  24336.0  18601.0  30785.0  25392.0  1993.7  \n\n[970001 rows x 63 columns]",
      "text/html": "<div>\n<style scoped>\n    .dataframe tbody tr th:only-of-type {\n        vertical-align: middle;\n    }\n\n    .dataframe tbody tr th {\n        vertical-align: top;\n    }\n\n    .dataframe thead th {\n        text-align: right;\n    }\n</style>\n<table border=\"1\" class=\"dataframe\">\n  <thead>\n    <tr style=\"text-align: right;\">\n      <th></th>\n      <th>0</th>\n      <th>1</th>\n      <th>2</th>\n      <th>3</th>\n      <th>4</th>\n      <th>5</th>\n      <th>6</th>\n      <th>7</th>\n      <th>8</th>\n      <th>9</th>\n      <th>...</th>\n      <th>53</th>\n      <th>54</th>\n      <th>55</th>\n      <th>56</th>\n      <th>57</th>\n      <th>58</th>\n      <th>59</th>\n      <th>60</th>\n      <th>61</th>\n      <th>62</th>\n    </tr>\n  </thead>\n  <tbody>\n    <tr>\n      <th>0</th>\n      <td>24595.0</td>\n      <td>27211.0</td>\n      <td>27653.0</td>\n      <td>21806.0</td>\n      <td>26186.0</td>\n      <td>30592.0</td>\n      <td>19998.0</td>\n      <td>27082.0</td>\n      <td>25041.0</td>\n      <td>25003.0</td>\n      <td>...</td>\n      <td>22109.0</td>\n      <td>23930.0</td>\n      <td>28526.0</td>\n      <td>24380.0</td>\n      <td>29384.0</td>\n      <td>24049.0</td>\n      <td>18484.0</td>\n      <td>30599.0</td>\n      <td>25362.0</td>\n      <td>2064.0</td>\n    </tr>\n    <tr>\n      <th>1</th>\n      <td>24597.0</td>\n      <td>27210.0</td>\n      <td>27654.0</td>\n      <td>21807.0</td>\n      <td>26187.0</td>\n      <td>30592.0</td>\n      <td>19998.0</td>\n      <td>27083.0</td>\n      <td>25042.0</td>\n      <td>25004.0</td>\n      <td>...</td>\n      <td>22109.0</td>\n      <td>23930.0</td>\n      <td>28527.0</td>\n      <td>24377.0</td>\n      <td>29383.0</td>\n      <td>24048.0</td>\n      <td>18484.0</td>\n      <td>30600.0</td>\n      <td>25363.0</td>\n      <td>2063.1</td>\n    </tr>\n    <tr>\n      <th>2</th>\n      <td>24598.0</td>\n      <td>27210.0</td>\n      <td>27656.0</td>\n      <td>21808.0</td>\n      <td>26187.0</td>\n      <td>30591.0</td>\n      <td>19998.0</td>\n      <td>27084.0</td>\n      <td>25043.0</td>\n      <td>25004.0</td>\n      <td>...</td>\n      <td>22111.0</td>\n      <td>23930.0</td>\n      <td>28528.0</td>\n      <td>24377.0</td>\n      <td>29384.0</td>\n      <td>24050.0</td>\n      <td>18488.0</td>\n      <td>30602.0</td>\n      <td>25365.0</td>\n      <td>2063.3</td>\n    </tr>\n    <tr>\n      <th>3</th>\n      <td>24598.0</td>\n      <td>27212.0</td>\n      <td>27656.0</td>\n      <td>21809.0</td>\n      <td>26187.0</td>\n      <td>30590.0</td>\n      <td>19998.0</td>\n      <td>27084.0</td>\n      <td>25044.0</td>\n      <td>25005.0</td>\n      <td>...</td>\n      <td>22114.0</td>\n      <td>23933.0</td>\n      <td>28531.0</td>\n      <td>24379.0</td>\n      <td>29387.0</td>\n      <td>24054.0</td>\n      <td>18490.0</td>\n      <td>30604.0</td>\n      <td>25367.0</td>\n      <td>2064.0</td>\n    </tr>\n    <tr>\n      <th>4</th>\n      <td>24599.0</td>\n      <td>27215.0</td>\n      <td>27657.0</td>\n      <td>21812.0</td>\n      <td>26189.0</td>\n      <td>30593.0</td>\n      <td>20001.0</td>\n      <td>27086.0</td>\n      <td>25046.0</td>\n      <td>25007.0</td>\n      <td>...</td>\n      <td>22115.0</td>\n      <td>23934.0</td>\n      <td>28534.0</td>\n      <td>24379.0</td>\n      <td>29390.0</td>\n      <td>24057.0</td>\n      <td>18492.0</td>\n      <td>30605.0</td>\n      <td>25368.0</td>\n      <td>2064.2</td>\n    </tr>\n    <tr>\n      <th>...</th>\n      <td>...</td>\n      <td>...</td>\n      <td>...</td>\n      <td>...</td>\n      <td>...</td>\n      <td>...</td>\n      <td>...</td>\n      <td>...</td>\n      <td>...</td>\n      <td>...</td>\n      <td>...</td>\n      <td>...</td>\n      <td>...</td>\n      <td>...</td>\n      <td>...</td>\n      <td>...</td>\n      <td>...</td>\n      <td>...</td>\n      <td>...</td>\n      <td>...</td>\n      <td>...</td>\n    </tr>\n    <tr>\n      <th>969996</th>\n      <td>24919.0</td>\n      <td>27493.0</td>\n      <td>27899.0</td>\n      <td>21922.0</td>\n      <td>26402.0</td>\n      <td>30725.0</td>\n      <td>20086.0</td>\n      <td>27292.0</td>\n      <td>25090.0</td>\n      <td>25072.0</td>\n      <td>...</td>\n      <td>22298.0</td>\n      <td>24036.0</td>\n      <td>28625.0</td>\n      <td>24451.0</td>\n      <td>29472.0</td>\n      <td>24333.0</td>\n      <td>18596.0</td>\n      <td>30780.0</td>\n      <td>25385.0</td>\n      <td>1991.3</td>\n    </tr>\n    <tr>\n      <th>969997</th>\n      <td>24921.0</td>\n      <td>27496.0</td>\n      <td>27900.0</td>\n      <td>21926.0</td>\n      <td>26402.0</td>\n      <td>30726.0</td>\n      <td>20087.0</td>\n      <td>27294.0</td>\n      <td>25092.0</td>\n      <td>25074.0</td>\n      <td>...</td>\n      <td>22299.0</td>\n      <td>24032.0</td>\n      <td>28624.0</td>\n      <td>24450.0</td>\n      <td>29472.0</td>\n      <td>24334.0</td>\n      <td>18595.0</td>\n      <td>30778.0</td>\n      <td>25384.0</td>\n      <td>1992.1</td>\n    </tr>\n    <tr>\n      <th>969998</th>\n      <td>24921.0</td>\n      <td>27496.0</td>\n      <td>27902.0</td>\n      <td>21928.0</td>\n      <td>26404.0</td>\n      <td>30728.0</td>\n      <td>20087.0</td>\n      <td>27296.0</td>\n      <td>25093.0</td>\n      <td>25076.0</td>\n      <td>...</td>\n      <td>22300.0</td>\n      <td>24033.0</td>\n      <td>28623.0</td>\n      <td>24450.0</td>\n      <td>29475.0</td>\n      <td>24335.0</td>\n      <td>18596.0</td>\n      <td>30778.0</td>\n      <td>25386.0</td>\n      <td>1992.2</td>\n    </tr>\n    <tr>\n      <th>969999</th>\n      <td>24923.0</td>\n      <td>27497.0</td>\n      <td>27905.0</td>\n      <td>21930.0</td>\n      <td>26406.0</td>\n      <td>30731.0</td>\n      <td>20090.0</td>\n      <td>27299.0</td>\n      <td>25096.0</td>\n      <td>25077.0</td>\n      <td>...</td>\n      <td>22304.0</td>\n      <td>24039.0</td>\n      <td>28628.0</td>\n      <td>24453.0</td>\n      <td>29476.0</td>\n      <td>24336.0</td>\n      <td>18600.0</td>\n      <td>30782.0</td>\n      <td>25389.0</td>\n      <td>1994.1</td>\n    </tr>\n    <tr>\n      <th>970000</th>\n      <td>24927.0</td>\n      <td>27500.0</td>\n      <td>27906.0</td>\n      <td>21933.0</td>\n      <td>26408.0</td>\n      <td>30731.0</td>\n      <td>20093.0</td>\n      <td>27301.0</td>\n      <td>25100.0</td>\n      <td>25078.0</td>\n      <td>...</td>\n      <td>22305.0</td>\n      <td>24041.0</td>\n      <td>28630.0</td>\n      <td>24456.0</td>\n      <td>29476.0</td>\n      <td>24336.0</td>\n      <td>18601.0</td>\n      <td>30785.0</td>\n      <td>25392.0</td>\n      <td>1993.7</td>\n    </tr>\n  </tbody>\n</table>\n<p>970001 rows × 63 columns</p>\n</div>"
     },
     "execution_count": 13,
     "metadata": {},
     "output_type": "execute_result"
    }
   ],
   "source": [
    "df"
   ],
   "metadata": {
    "collapsed": false,
    "pycharm": {
     "name": "#%%\n"
    }
   }
  },
  {
   "cell_type": "code",
   "execution_count": 14,
   "outputs": [],
   "source": [
    "channel_5 = df[4]"
   ],
   "metadata": {
    "collapsed": false,
    "pycharm": {
     "name": "#%%\n"
    }
   }
  },
  {
   "cell_type": "code",
   "execution_count": 15,
   "outputs": [
    {
     "name": "stdout",
     "output_type": "stream",
     "text": [
      "range: -53976.0:336810.0\n"
     ]
    }
   ],
   "source": [
    "print(f\"range: {np.min(channel_5)}:{np.max(channel_5)}\")"
   ],
   "metadata": {
    "collapsed": false,
    "pycharm": {
     "name": "#%%\n"
    }
   }
  },
  {
   "cell_type": "code",
   "execution_count": 16,
   "outputs": [
    {
     "data": {
      "text/plain": "970001"
     },
     "execution_count": 16,
     "metadata": {},
     "output_type": "execute_result"
    }
   ],
   "source": [
    "len(channel_5)"
   ],
   "metadata": {
    "collapsed": false,
    "pycharm": {
     "name": "#%%\n"
    }
   }
  },
  {
   "cell_type": "code",
   "execution_count": 18,
   "outputs": [
    {
     "data": {
      "text/plain": "125"
     },
     "execution_count": 18,
     "metadata": {},
     "output_type": "execute_result"
    }
   ],
   "source": [
    "len(list(filter(lambda x: x <= 0, channel_5)))"
   ],
   "metadata": {
    "collapsed": false,
    "pycharm": {
     "name": "#%%\n"
    }
   }
  },
  {
   "cell_type": "code",
   "execution_count": 20,
   "outputs": [],
   "source": [
    "channel_5_mean = np.mean(channel_5)\n",
    "\n",
    "channel_5_demeaned = channel_5 - channel_5_mean"
   ],
   "metadata": {
    "collapsed": false,
    "pycharm": {
     "name": "#%%\n"
    }
   }
  },
  {
   "cell_type": "code",
   "execution_count": 22,
   "outputs": [],
   "source": [
    "def within_threshold(value, threshold):\n",
    "    return -threshold <= value <= threshold"
   ],
   "metadata": {
    "collapsed": false,
    "pycharm": {
     "name": "#%%\n"
    }
   }
  },
  {
   "cell_type": "code",
   "execution_count": 27,
   "outputs": [
    {
     "data": {
      "text/plain": "492"
     },
     "execution_count": 27,
     "metadata": {},
     "output_type": "execute_result"
    }
   ],
   "source": [
    "len(list(filter(lambda x: not within_threshold(x, 10000), channel_5_demeaned)))"
   ],
   "metadata": {
    "collapsed": false,
    "pycharm": {
     "name": "#%%\n"
    }
   }
  },
  {
   "cell_type": "code",
   "execution_count": 30,
   "outputs": [
    {
     "name": "stdout",
     "output_type": "stream",
     "text": [
      "i: 0\n",
      "i: 100\n",
      "i: 200\n",
      "i: 300\n",
      "i: 400\n",
      "i: 500\n",
      "i: 600\n",
      "i: 700\n",
      "i: 800\n",
      "i: 900\n",
      "i: 1000\n",
      "i: 1100\n",
      "i: 1200\n",
      "i: 1300\n",
      "i: 1400\n",
      "i: 1500\n",
      "i: 1600\n",
      "i: 1700\n",
      "i: 1800\n",
      "i: 1900\n",
      "i: 2000\n",
      "i: 2100\n",
      "i: 2200\n",
      "i: 2300\n",
      "i: 2400\n",
      "i: 2500\n",
      "i: 2600\n",
      "i: 2700\n",
      "i: 2800\n",
      "i: 2900\n",
      "i: 3000\n",
      "i: 3100\n",
      "i: 3200\n",
      "i: 3300\n",
      "i: 3400\n",
      "i: 3500\n",
      "i: 3600\n",
      "i: 3700\n",
      "i: 3800\n",
      "i: 3900\n",
      "i: 4000\n",
      "i: 4100\n",
      "i: 4200\n",
      "i: 4300\n",
      "i: 4400\n",
      "i: 4500\n",
      "i: 4600\n",
      "i: 4700\n",
      "i: 4800\n",
      "i: 4900\n",
      "i: 5000\n",
      "i: 5100\n",
      "i: 5200\n",
      "i: 5300\n",
      "i: 5400\n",
      "i: 5500\n",
      "i: 5600\n",
      "i: 5700\n",
      "i: 5800\n",
      "i: 5900\n",
      "i: 6000\n",
      "i: 6100\n",
      "i: 6200\n",
      "i: 6300\n",
      "i: 6400\n",
      "i: 6500\n",
      "i: 6600\n",
      "i: 6700\n",
      "i: 6800\n",
      "i: 6900\n",
      "i: 7000\n",
      "i: 7100\n",
      "i: 7200\n",
      "i: 7300\n",
      "i: 7400\n",
      "i: 7500\n",
      "i: 7600\n",
      "i: 7700\n",
      "i: 7800\n",
      "i: 7900\n",
      "i: 8000\n",
      "i: 8100\n",
      "i: 8200\n",
      "i: 8300\n",
      "i: 8400\n",
      "i: 8500\n",
      "i: 8600\n",
      "i: 8700\n",
      "i: 8800\n",
      "i: 8900\n",
      "i: 9000\n",
      "i: 9100\n",
      "i: 9200\n",
      "i: 9300\n",
      "i: 9400\n",
      "i: 9500\n",
      "i: 9600\n",
      "i: 9700\n",
      "i: 9800\n",
      "i: 9900\n"
     ]
    },
    {
     "data": {
      "text/plain": "[492,\n 492,\n 492,\n 492,\n 492,\n 492,\n 492,\n 493,\n 493,\n 493,\n 493,\n 493,\n 494,\n 494,\n 494,\n 494,\n 494,\n 494,\n 494,\n 494,\n 494,\n 494,\n 494,\n 494,\n 494,\n 494,\n 494,\n 494,\n 494,\n 494,\n 494,\n 494,\n 494,\n 494,\n 494,\n 495,\n 495,\n 495,\n 495,\n 495,\n 495,\n 495,\n 495,\n 495,\n 495,\n 495,\n 495,\n 495,\n 495,\n 495,\n 495,\n 495,\n 495,\n 495,\n 495,\n 495,\n 495,\n 496,\n 496,\n 496,\n 496,\n 496,\n 496,\n 496,\n 496,\n 496,\n 496,\n 496,\n 496,\n 496,\n 496,\n 496,\n 496,\n 496,\n 496,\n 496,\n 496,\n 496,\n 496,\n 496,\n 496,\n 496,\n 496,\n 496,\n 496,\n 496,\n 496,\n 496,\n 496,\n 496,\n 496,\n 496,\n 496,\n 496,\n 496,\n 496,\n 496,\n 496,\n 496,\n 496,\n 496,\n 496,\n 496,\n 496,\n 496,\n 496,\n 496,\n 496,\n 496,\n 496,\n 496,\n 496,\n 496,\n 496,\n 496,\n 496,\n 496,\n 496,\n 496,\n 496,\n 496,\n 496,\n 496,\n 497,\n 497,\n 497,\n 497,\n 497,\n 497,\n 497,\n 497,\n 497,\n 497,\n 497,\n 497,\n 497,\n 497,\n 497,\n 497,\n 497,\n 497,\n 497,\n 497,\n 497,\n 497,\n 497,\n 497,\n 497,\n 497,\n 497,\n 497,\n 497,\n 497,\n 497,\n 497,\n 497,\n 497,\n 497,\n 497,\n 497,\n 497,\n 497,\n 497,\n 497,\n 497,\n 497,\n 497,\n 497,\n 497,\n 497,\n 497,\n 497,\n 497,\n 497,\n 497,\n 497,\n 497,\n 497,\n 497,\n 497,\n 497,\n 497,\n 497,\n 497,\n 497,\n 497,\n 497,\n 497,\n 497,\n 497,\n 497,\n 497,\n 497,\n 497,\n 497,\n 497,\n 497,\n 497,\n 497,\n 497,\n 497,\n 497,\n 497,\n 497,\n 497,\n 497,\n 497,\n 497,\n 497,\n 497,\n 498,\n 498,\n 498,\n 498,\n 498,\n 498,\n 498,\n 498,\n 498,\n 498,\n 498,\n 498,\n 498,\n 499,\n 499,\n 499,\n 499,\n 499,\n 499,\n 500,\n 500,\n 500,\n 500,\n 500,\n 500,\n 500,\n 500,\n 500,\n 500,\n 500,\n 500,\n 500,\n 500,\n 502,\n 502,\n 502,\n 503,\n 503,\n 507,\n 508,\n 509,\n 509,\n 512,\n 513,\n 514,\n 514,\n 514,\n 517,\n 517,\n 518,\n 520,\n 524,\n 527,\n 527,\n 531,\n 532,\n 532,\n 533,\n 533,\n 534,\n 536,\n 536,\n 536,\n 538,\n 541,\n 544,\n 546,\n 547,\n 548,\n 548,\n 548,\n 548,\n 551,\n 551,\n 552,\n 557,\n 558,\n 561,\n 561,\n 562,\n 562,\n 562,\n 562,\n 562,\n 563,\n 566,\n 569,\n 571,\n 574,\n 577,\n 579,\n 581,\n 583,\n 588,\n 592,\n 594,\n 597,\n 599,\n 602,\n 603,\n 607,\n 611,\n 613,\n 614,\n 615,\n 616,\n 617,\n 617,\n 617,\n 617,\n 617,\n 617,\n 617,\n 618,\n 618,\n 618,\n 618,\n 618,\n 618,\n 618,\n 618,\n 618,\n 618,\n 618,\n 618,\n 618,\n 619,\n 619,\n 619,\n 619,\n 619,\n 621,\n 624,\n 631,\n 638,\n 642,\n 643,\n 645,\n 647,\n 649,\n 653,\n 654,\n 661,\n 664,\n 665,\n 669,\n 674,\n 685,\n 690,\n 692,\n 696,\n 698,\n 698,\n 700,\n 701,\n 706,\n 710,\n 711,\n 715,\n 717,\n 720,\n 721,\n 723,\n 729,\n 733,\n 734,\n 736,\n 736,\n 736,\n 737,\n 738,\n 738,\n 738,\n 738,\n 738,\n 738,\n 738,\n 738,\n 738,\n 738,\n 738,\n 738,\n 738,\n 738,\n 738,\n 738,\n 738,\n 738,\n 738,\n 738,\n 738,\n 738,\n 738,\n 738,\n 739,\n 739,\n 739,\n 739,\n 739,\n 739,\n 739,\n 740,\n 740,\n 740,\n 740,\n 741,\n 741,\n 750,\n 755,\n 759,\n 762,\n 762,\n 762,\n 762,\n 763,\n 764,\n 770,\n 772,\n 774,\n 777,\n 778,\n 781,\n 785,\n 785,\n 787,\n 787,\n 788,\n 790,\n 793,\n 795,\n 800,\n 801,\n 802,\n 803,\n 804,\n 804,\n 804,\n 804,\n 805,\n 805,\n 806,\n 807,\n 807,\n 807,\n 808,\n 809,\n 811,\n 813,\n 817,\n 819,\n 827,\n 834,\n 840,\n 847,\n 856,\n 865,\n 876,\n 887,\n 902,\n 935,\n 1016,\n 1118,\n 1493,\n 2410,\n 3673,\n 5299,\n 7129,\n 9470,\n 12161,\n 14899,\n 18070,\n 21732,\n 26000,\n 30440,\n 34941,\n 42507,\n 52786,\n 63614,\n 74872,\n 88514,\n 109939,\n 151335,\n 226445,\n 346487,\n 500829,\n 608690,\n 693448,\n 765126,\n 836171,\n 970001]"
     },
     "execution_count": 30,
     "metadata": {},
     "output_type": "execute_result"
    }
   ],
   "source": [
    "lens = []\n",
    "for i in range(0, 10000, 20):\n",
    "    l = len(list(filter(lambda x: not within_threshold(x, i), channel_5_demeaned)))\n",
    "    lens.append(l)\n",
    "    if i % 50 == 0:\n",
    "        print(f\"i: {i}\")\n",
    "s = sorted(lens)\n",
    "s"
   ],
   "metadata": {
    "collapsed": false,
    "pycharm": {
     "name": "#%%\n"
    }
   }
  },
  {
   "cell_type": "code",
   "execution_count": 56,
   "outputs": [
    {
     "data": {
      "text/plain": "[<matplotlib.lines.Line2D at 0x7f2830e94eb0>]"
     },
     "execution_count": 56,
     "metadata": {},
     "output_type": "execute_result"
    },
    {
     "data": {
      "text/plain": "<Figure size 1200x800 with 1 Axes>",
      "image/png": "[encoded data removed]"
     },
     "metadata": {},
     "output_type": "display_data"
    }
   ],
   "source": [
    "bins = list(range(0, 10000, 20))\n",
    "f = plt.figure()\n",
    "f.set_figwidth(12)\n",
    "f.set_figheight(8)\n",
    "\n",
    "#plt.xticks(bins)\n",
    "#plt.grid(alpha=0.3)\n",
    "\n",
    "plt.plot(bins[:100], lens[:100])"
   ],
   "metadata": {
    "collapsed": false,
    "pycharm": {
     "name": "#%%\n"
    }
   }
  },
  {
   "cell_type": "code",
   "execution_count": 57,
   "outputs": [
    {
     "data": {
      "text/plain": "58216"
     },
     "execution_count": 57,
     "metadata": {},
     "output_type": "execute_result"
    }
   ],
   "source": [
    "len(list(filter(lambda x: not within_threshold(x, 250), channel_5_demeaned)))"
   ],
   "metadata": {
    "collapsed": false,
    "pycharm": {
     "name": "#%%\n"
    }
   }
  },
  {
   "cell_type": "code",
   "execution_count": null,
   "outputs": [],
   "source": [],
   "metadata": {
    "collapsed": false,
    "pycharm": {
     "name": "#%%\n"
    }
   }
  }
 ],
 "metadata": {
  "kernelspec": {
   "display_name": "Python 3",
   "language": "python",
   "name": "python3"
  },
  "language_info": {
   "codemirror_mode": {
    "name": "ipython",
    "version": 2
   },
   "file_extension": ".py",
   "mimetype": "text/x-python",
   "name": "python",
   "nbconvert_exporter": "python",
   "pygments_lexer": "ipython2",
   "version": "2.7.6"
  }
 },
 "nbformat": 4,
 "nbformat_minor": 0
}